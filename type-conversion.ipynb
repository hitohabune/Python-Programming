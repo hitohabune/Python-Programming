{
  "nbformat": 4,
  "nbformat_minor": 0,
  "metadata": {
    "colab": {
      "provenance": [],
      "authorship_tag": "ABX9TyN1na+lOkpGBLubwXQFlBQN",
      "include_colab_link": true
    },
    "kernelspec": {
      "name": "python3",
      "display_name": "Python 3"
    },
    "language_info": {
      "name": "python"
    }
  },
  "cells": [
    {
      "cell_type": "markdown",
      "metadata": {
        "id": "view-in-github",
        "colab_type": "text"
      },
      "source": [
        "<a href=\"https://colab.research.google.com/github/hitohabune/Python-Programming/blob/main/type-conversion.ipynb\" target=\"_parent\"><img src=\"https://colab.research.google.com/assets/colab-badge.svg\" alt=\"Open In Colab\"/></a>"
      ]
    },
    {
      "cell_type": "code",
      "execution_count": 9,
      "metadata": {
        "colab": {
          "base_uri": "https://localhost:8080/"
        },
        "id": "Vv13L2Z3pTDs",
        "outputId": "f07f4e28-dcf3-4c62-9c4b-116694d3586a"
      },
      "outputs": [
        {
          "output_type": "stream",
          "name": "stdout",
          "text": [
            "반지름 입력 : 33\n",
            "207.24\n"
          ]
        }
      ],
      "source": [
        "# 형변환 연습\n",
        "rad = float(input(\"반지름 입력 : \")) # input 함수로 받아들인건 모두 문자 형태로 인식함\n",
        "vol = rad * 2 * 3.14\n",
        "print(vol)"
      ]
    }
  ]
}